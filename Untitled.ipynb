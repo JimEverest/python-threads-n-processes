{
 "cells": [
  {
   "cell_type": "markdown",
   "metadata": {},
   "source": []
  },
  {
   "cell_type": "code",
   "execution_count": null,
   "metadata": {},
   "outputs": [],
   "source": []
  },
  {
   "cell_type": "code",
   "execution_count": null,
   "metadata": {},
   "outputs": [],
   "source": []
  },
  {
   "cell_type": "code",
   "execution_count": null,
   "metadata": {},
   "outputs": [],
   "source": [
    "### Thread define:"
   ]
  },
  {
   "cell_type": "code",
   "execution_count": 2,
   "metadata": {},
   "outputs": [],
   "source": [
    "import threading"
   ]
  },
  {
   "cell_type": "code",
   "execution_count": 9,
   "metadata": {},
   "outputs": [],
   "source": [
    "def function(i):\n",
    "    print(\"function called by thread %i \\n\" % i)"
   ]
  },
  {
   "cell_type": "code",
   "execution_count": 10,
   "metadata": {},
   "outputs": [],
   "source": [
    "threads = []"
   ]
  },
  {
   "cell_type": "code",
   "execution_count": 11,
   "metadata": {
    "collapsed": true
   },
   "outputs": [
    {
     "name": "stdout",
     "output_type": "stream",
     "text": [
      "function called by thread 0 \n",
      "\n",
      "function called by thread 1 \n",
      "\n",
      "function called by thread 2 \n",
      "\n",
      "function called by thread 3 \n",
      "\n",
      "function called by thread 4 \n",
      "\n"
     ]
    }
   ],
   "source": [
    "for i in range(5):\n",
    "    #用 function 初始化了一个线程对象 Thread 。同时还传入了用于打印的一个参数：\n",
    "    t = threading.Thread(target=function, args=(i,))\n",
    "    threads.append(t)\n",
    "    t.start() # 线程被创建之后并不会马上运行，需要手动调用 start()\n",
    "    t.join() # 让调用它的线程一直等待直到执行结束（即阻塞调用它的主线程， t 线程执行结束，主线程才会继续执行"
   ]
  },
  {
   "cell_type": "code",
   "execution_count": null,
   "metadata": {},
   "outputs": [],
   "source": []
  },
  {
   "cell_type": "code",
   "execution_count": null,
   "metadata": {},
   "outputs": [],
   "source": [
    "### Thread Identify:"
   ]
  },
  {
   "cell_type": "code",
   "execution_count": 12,
   "metadata": {},
   "outputs": [],
   "source": [
    "import threading\n",
    "import time"
   ]
  },
  {
   "cell_type": "code",
   "execution_count": 17,
   "metadata": {},
   "outputs": [],
   "source": [
    "def  first_fn():\n",
    "    print(threading.currentThread().getName() + \" is running...\")\n",
    "    time.sleep(2)\n",
    "    print(threading.currentThread().getName() + \" is Exiting\" )\n",
    "    \n",
    "def  second_fn():\n",
    "    print(threading.currentThread().getName() + \" is running...\")\n",
    "    time.sleep(2)\n",
    "    print(threading.currentThread().getName() + \" is Exiting\" )\n",
    "    \n",
    "def  third_fn():\n",
    "    print(threading.currentThread().getName() + \" is running...\")\n",
    "    time.sleep(2)\n",
    "    print(threading.currentThread().getName() + \" is Exiting\" )"
   ]
  },
  {
   "cell_type": "code",
   "execution_count": 24,
   "metadata": {},
   "outputs": [
    {
     "name": "stdout",
     "output_type": "stream",
     "text": [
      "1st_FN is running...\n",
      "2nd_FN is running...\n",
      "3rd_FN is running...\n",
      "all done...\n",
      "1st_FN is Exiting\n",
      "2nd_FN is Exiting\n",
      "3rd_FN is Exiting\n"
     ]
    }
   ],
   "source": [
    "if __name__==\"__main__\":\n",
    "    t1=threading.Thread(target=first_fn, name=\"1st_FN\")\n",
    "    t2=threading.Thread(target=second_fn, name=\"2nd_FN\")\n",
    "    t3=threading.Thread(target=third_fn, name=\"3rd_FN\")\n",
    "    t1.start()\n",
    "    t2.start()\n",
    "    t3.start()\n",
    "print (\"all done...\")"
   ]
  },
  {
   "cell_type": "code",
   "execution_count": null,
   "metadata": {},
   "outputs": [],
   "source": [
    "# Notice the position of message \"all done\".\n",
    "# join() 阻塞主进程。"
   ]
  },
  {
   "cell_type": "code",
   "execution_count": 23,
   "metadata": {},
   "outputs": [
    {
     "name": "stdout",
     "output_type": "stream",
     "text": [
      "1st_FN is running...\n",
      "2nd_FN is running...\n",
      "3rd_FN is running...\n",
      "1st_FN is Exiting\n",
      "all done...\n",
      "2nd_FN is Exiting\n",
      "3rd_FN is Exiting\n"
     ]
    }
   ],
   "source": [
    "if __name__==\"__main__\":\n",
    "    t1=threading.Thread(target=first_fn, name=\"1st_FN\")\n",
    "    t2=threading.Thread(target=second_fn, name=\"2nd_FN\")\n",
    "    t3=threading.Thread(target=third_fn, name=\"3rd_FN\")\n",
    "    t1.start()\n",
    "    t2.start()\n",
    "    t3.start()\n",
    "    t1.join()\n",
    "#     t2.join()\n",
    "#     t3.join()\n",
    "print (\"all done...\")"
   ]
  },
  {
   "cell_type": "code",
   "execution_count": null,
   "metadata": {},
   "outputs": [],
   "source": []
  },
  {
   "cell_type": "code",
   "execution_count": null,
   "metadata": {},
   "outputs": [],
   "source": []
  },
  {
   "cell_type": "code",
   "execution_count": null,
   "metadata": {},
   "outputs": [],
   "source": []
  },
  {
   "cell_type": "code",
   "execution_count": null,
   "metadata": {},
   "outputs": [],
   "source": []
  },
  {
   "cell_type": "code",
   "execution_count": null,
   "metadata": {},
   "outputs": [],
   "source": []
  },
  {
   "cell_type": "code",
   "execution_count": null,
   "metadata": {},
   "outputs": [],
   "source": []
  }
 ],
 "metadata": {
  "kernelspec": {
   "display_name": "Python 3",
   "language": "python",
   "name": "python3"
  },
  "language_info": {
   "codemirror_mode": {
    "name": "ipython",
    "version": 3
   },
   "file_extension": ".py",
   "mimetype": "text/x-python",
   "name": "python",
   "nbconvert_exporter": "python",
   "pygments_lexer": "ipython3",
   "version": "3.6.5"
  }
 },
 "nbformat": 4,
 "nbformat_minor": 2
}
