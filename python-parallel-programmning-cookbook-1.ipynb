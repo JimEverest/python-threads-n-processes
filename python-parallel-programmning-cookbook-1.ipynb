{
  "nbformat": 4,
  "nbformat_minor": 0,
  "metadata": {
    "colab": {
      "name": "Untitled0.ipynb",
      "version": "0.3.2",
      "provenance": [],
      "include_colab_link": true
    },
    "kernelspec": {
      "name": "python3",
      "display_name": "Python 3"
    }
  },
  "cells": [
    {
      "cell_type": "markdown",
      "metadata": {
        "id": "view-in-github",
        "colab_type": "text"
      },
      "source": [
        "<a href=\"https://colab.research.google.com/github/JimEverest/python-threads-n-processes/blob/master/python-parallel-programmning-cookbook-1.ipynb\" target=\"_parent\"><img src=\"https://colab.research.google.com/assets/colab-badge.svg\" alt=\"Open In Colab\"/></a>"
      ]
    },
    {
      "cell_type": "code",
      "metadata": {
        "id": "nkbo3k0gZfj2",
        "colab_type": "code",
        "colab": {}
      },
      "source": [
        "import threading\n",
        "\n",
        "shared_resource_with_lock = 0\n",
        "shared_resource_with_no_lock = 0\n",
        "COUNT = 1000000\n",
        "shared_resource_lock = threading.Lock()"
      ],
      "execution_count": 0,
      "outputs": []
    },
    {
      "cell_type": "code",
      "metadata": {
        "id": "yfDwUJ8cZiJ0",
        "colab_type": "code",
        "colab": {}
      },
      "source": [
        "# 有锁的情况\n",
        "def increment_with_lock():\n",
        "    global shared_resource_with_lock\n",
        "    for i in range(COUNT):\n",
        "        shared_resource_lock.acquire()\n",
        "        shared_resource_with_lock += 1\n",
        "        shared_resource_lock.release()\n",
        "\n",
        "def decrement_with_lock():\n",
        "    global shared_resource_with_lock\n",
        "    for i in range(COUNT):\n",
        "        shared_resource_lock.acquire()\n",
        "        shared_resource_with_lock -= 1\n",
        "        shared_resource_lock.release()\n",
        "\n",
        "# 没有锁的情况\n",
        "def increment_without_lock():\n",
        "    global shared_resource_with_no_lock\n",
        "    for i in range(COUNT):\n",
        "        shared_resource_with_no_lock += 1\n",
        "\n",
        "def decrement_without_lock():\n",
        "    global shared_resource_with_no_lock\n",
        "    for i in range(COUNT):\n",
        "        shared_resource_with_no_lock -= 1"
      ],
      "execution_count": 0,
      "outputs": []
    },
    {
      "cell_type": "markdown",
      "metadata": {
        "id": "B1ROyPECZ8L_",
        "colab_type": "text"
      },
      "source": [
        "在 increment_with_lock() 函数和 decrement_with_lock() 函数中，可以看到我们使用了lock语句。当你需要使用资源的时候，调用 acquire() 拿到锁（如果锁暂时不可用，会一直等待直到拿到），最后调用 release():"
      ]
    },
    {
      "cell_type": "code",
      "metadata": {
        "id": "kJibT1paZkrB",
        "colab_type": "code",
        "colab": {
          "base_uri": "https://localhost:8080/",
          "height": 51
        },
        "outputId": "fb795463-f41f-4cbf-b862-83fefab2f992"
      },
      "source": [
        "if __name__ == \"__main__\":\n",
        "    t1 = threading.Thread(target=increment_with_lock)\n",
        "    t2 = threading.Thread(target=decrement_with_lock)\n",
        "    t3 = threading.Thread(target=increment_without_lock)\n",
        "    t4 = threading.Thread(target=decrement_without_lock)\n",
        "    \n",
        "    #启动线程\n",
        "    t1.start()\n",
        "    t2.start()\n",
        "    t3.start()\n",
        "    t4.start()\n",
        "    \n",
        "    #阻塞主线程直到所有线程完成：\n",
        "    t1.join()\n",
        "    t2.join()\n",
        "    t3.join()\n",
        "    t4.join()\n",
        "    \n",
        "    \n",
        "    print (\"the value of shared variable with lock management is %s\" % shared_resource_with_lock)\n",
        "    print (\"the value of shared variable with race condition is %s\" % shared_resource_with_no_lock)"
      ],
      "execution_count": 5,
      "outputs": [
        {
          "output_type": "stream",
          "text": [
            "the value of shared variable with lock management is 0\n",
            "the value of shared variable with race condition is -58937\n"
          ],
          "name": "stdout"
        }
      ]
    },
    {
      "cell_type": "code",
      "metadata": {
        "id": "PxHfSJo0Zm3R",
        "colab_type": "code",
        "colab": {}
      },
      "source": [
        ""
      ],
      "execution_count": 0,
      "outputs": []
    }
  ]
}